{
  "nbformat": 4,
  "nbformat_minor": 0,
  "metadata": {
    "colab": {
      "provenance": [],
      "toc_visible": true,
      "authorship_tag": "ABX9TyNuID8Tu7/zOrSCaICUo4nZ",
      "include_colab_link": true
    },
    "kernelspec": {
      "name": "python3",
      "display_name": "Python 3"
    },
    "language_info": {
      "name": "python"
    }
  },
  "cells": [
    {
      "cell_type": "markdown",
      "metadata": {
        "id": "view-in-github",
        "colab_type": "text"
      },
      "source": [
        "<a href=\"https://colab.research.google.com/github/Makarov1999/colab/blob/main/Lab2.ipynb\" target=\"_parent\"><img src=\"https://colab.research.google.com/assets/colab-badge.svg\" alt=\"Open In Colab\"/></a>"
      ]
    },
    {
      "cell_type": "code",
      "execution_count": null,
      "metadata": {
        "id": "KcxkcNIi7ZIE"
      },
      "outputs": [],
      "source": [
        "import psycopg2\n",
        "import pandas as pd\n",
        "\n",
        "import pandas as pd\n",
        "data_frame = pd.read_csv('/content/ural-latest-points.csv')\n",
        "\n",
        "data_frame['start_latitude'] = df.start_position_lat*c_value\n",
        "data_frame['start_longitude'] = df.start_position_long*c_value\n"
      ]
    },
    {
      "cell_type": "code",
      "source": [
        "line = gpd.GeoDataFrame(index=[0], crs = 'EPSG:4326', geometry=[LineString(zip(df.longitude, df.latitude))])"
      ],
      "metadata": {
        "id": "nvqv0DtY8B1z"
      },
      "execution_count": null,
      "outputs": []
    },
    {
      "cell_type": "code",
      "source": [
        "gdf = gpd.GeoDataFrame(df[['speed', 'latitude', 'longitude']], crs='EPSG:4326',geometry=gpd.points_from_xy(df.longitude, df.latitude))"
      ],
      "metadata": {
        "id": "3ObBKHBl8CVY"
      },
      "execution_count": null,
      "outputs": []
    },
    {
      "cell_type": "code",
      "source": [
        "import branca\n",
        "colormap = branca.colormap.LinearColormap(colors=['cyan', 'green','yellow', 'orange', 'red'],\n",
        "                             index=[0, 10, 20, 30, 40], vmin=0, vmax=40,\n",
        "                             caption='Average Speed, km/h')"
      ],
      "metadata": {
        "id": "Tv3NXcre8LSs"
      },
      "execution_count": null,
      "outputs": []
    },
    {
      "cell_type": "code",
      "source": [
        "import folium\n",
        "m = folium.Map([line.centroid.y, line.centroid.x], tiles='cartodbpositron')\n",
        "for point, alt in gdf[['geometry', 'speed']].values:\n",
        "    folium.CircleMarker([point.y, point.x], radius=6, fill=True, color='r', fill_color=colormap(alt), fill_opacity=1.0).add_to(m)\n",
        "m.add_child(colormap)\n",
        "folium.FitBounds([[line.bounds.miny[0], line.bounds.minx[0]],[line.bounds.maxy[0], line.bounds.maxx[0]]]).add_to(m)\n",
        "m"
      ],
      "metadata": {
        "id": "k9T3BCBx8QDE"
      },
      "execution_count": null,
      "outputs": []
    }
  ]
}